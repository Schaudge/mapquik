{
 "cells": [
  {
   "cell_type": "code",
   "execution_count": 8,
   "id": "cbcaae60",
   "metadata": {},
   "outputs": [],
   "source": [
    "import pandas as pd\n",
    "import numpy as np\n",
    "import seaborn as sns\n",
    "from matplotlib import pyplot as plt\n",
    "import statistics\n",
    "plt.rc('figure', facecolor='w', figsize=[4,3])"
   ]
  },
  {
   "cell_type": "code",
   "execution_count": 20,
   "id": "0be1234d",
   "metadata": {},
   "outputs": [
    {
     "name": "stdout",
     "output_type": "stream",
     "text": [
      "11 1206.3056883056247 0\n",
      "13 86.55721513503043 0\n",
      "15 8.589840112743266 0\n",
      "17 2.0944450873337535 0\n",
      "19 1.4265358955173557 0\n",
      "21 1.323162064954869 0\n",
      "25 1.269990053618832 0\n",
      "31 1.2248649761461043 0\n",
      "41 1.1746042845203728 0\n",
      "51 1.141748178330027 0\n",
      "61 1.1212182465705811 0\n",
      "81 1.1000893839402575 0\n",
      "101 1.0894788910525317 0\n",
      "151 1.0749304796633323 0\n",
      "201 1.0664628563409748 0\n",
      "251 1.0605863582377915 0\n",
      "301 1.0560930585092148 0\n",
      "501 1.0443448080623274 0\n",
      "1001 1.0297204390267083 0\n",
      "2001 1.017794574638528 0\n"
     ]
    }
   ],
   "source": [
    "kmers = list(map(int,\"11 13 15 17 19 21 25 31 41 51 61 81 101 151 201 251 301 501 1001 2001\".split()))\n",
    "\n",
    "data_kmers = []\n",
    "for k in kmers:\n",
    "    abundances = []\n",
    "    mean = 0\n",
    "    nb_items = 0\n",
    "    for line in open(\"chm13v2.0-\"+str(k)+\".histo\"):\n",
    "        x, abundance = map(int,line.split())\n",
    "        #abundances += [x]*abundance\n",
    "        mean += x*abundance\n",
    "        nb_items += abundance\n",
    "    mean_abundance = mean/ nb_items\n",
    "    stdev_abundance = 0\n",
    "    # too slow\n",
    "    #mean_abundance = statistics.mean(abundances)\n",
    "    #stdev_abundance = statistics.stdev(abundances)\n",
    "    print(k,mean_abundance, stdev_abundance)\n",
    "    data_kmers += [(k,mean_abundance, stdev_abundance)]"
   ]
  },
  {
   "cell_type": "code",
   "execution_count": 31,
   "id": "4b7479b4",
   "metadata": {},
   "outputs": [
    {
     "name": "stdout",
     "output_type": "stream",
     "text": [
      "       k         mean  stdev\n",
      "0     11  1206.305688      0\n",
      "1     13    86.557215      0\n",
      "2     15     8.589840      0\n",
      "3     17     2.094445      0\n",
      "4     19     1.426536      0\n",
      "5     21     1.323162      0\n",
      "6     25     1.269990      0\n",
      "7     31     1.224865      0\n",
      "8     41     1.174604      0\n",
      "9     51     1.141748      0\n",
      "10    61     1.121218      0\n",
      "11    81     1.100089      0\n",
      "12   101     1.089479      0\n",
      "13   151     1.074930      0\n",
      "14   201     1.066463      0\n",
      "15   251     1.060586      0\n",
      "16   301     1.056093      0\n",
      "17   501     1.044345      0\n",
      "18  1001     1.029720      0\n",
      "19  2001     1.017795      0\n"
     ]
    },
    {
     "name": "stderr",
     "output_type": "stream",
     "text": [
      "/home/rayan/anaconda3/lib/python3.7/site-packages/seaborn/_decorators.py:43: FutureWarning: Pass the following variables as keyword args: x, y. From version 0.12, the only valid positional argument will be `data`, and passing other arguments without an explicit keyword will result in an error or misinterpretation.\n",
      "  FutureWarning\n"
     ]
    },
    {
     "data": {
      "image/png": "[encoded data removed]",
      "text/plain": [
       "<Figure size 288x216 with 1 Axes>"
      ]
     },
     "metadata": {},
     "output_type": "display_data"
    }
   ],
   "source": [
    "\n",
    "df = pd.DataFrame([x for x in data_kmers],columns=(\"k\",\"mean\",\"stdev\"))\n",
    "\n",
    "print(df)\n",
    "sns_plot = sns.lineplot(df[\"k\"], df[\"mean\"])\n",
    "\n",
    "sns_plot.set(xscale=\"log\")\n",
    "sns_plot.set(yscale=\"log\")\n",
    "#sns_plot.set(xticks=[x/100 for x in range(0,10+1,2)])\n",
    "#sns_plot.set_xticklabels([str(x-2) for x in range(0,10+3,2)])\n",
    "\n",
    "#ylabels = ['{:,.1f}'.format(x)  for x in sns_plot.get_yticks()/1000000.0]\n",
    "#sns_plot.set_yticklabels(ylabels)\n",
    "\n",
    "#plt.xticks(sns_plot.get_xticks(), sns_plot.get_xticks() * 100)\n",
    "sns_plot.set(xlabel='k value', ylabel='Average occurences in reference')\n",
    "#sns_plot.get_legend().remove()\n",
    "plt.title('')\n",
    "\n",
    "fig = sns_plot.get_figure()\n",
    "fig.savefig(\"seeds_kmers.pdf\", bbox_inches='tight', dpi =300)\n"
   ]
  },
  {
   "cell_type": "code",
   "execution_count": 32,
   "id": "44f380ba",
   "metadata": {},
   "outputs": [
    {
     "name": "stdout",
     "output_type": "stream",
     "text": [
      "2 1.11694955051534 0\n",
      "4 1.0755875398208579 0\n",
      "6 1.061835947883001 0\n",
      "8 1.0533406992214749 0\n",
      "10 1.0471632909866786 0\n",
      "12 1.0423266804444398 0\n",
      "15 1.03668080843371 0\n",
      "20 1.029970587093973 0\n"
     ]
    }
   ],
   "source": [
    "ksizes = list(map(int,\" 2 4 6 8 10 12 15 20\".split()))\n",
    "\n",
    "data_kminmers = []\n",
    "for k in ksizes:\n",
    "    abundances = []\n",
    "    mean = 0\n",
    "    nb_items = 0\n",
    "    for line in open(\"kminmers-k\"+str(k)+\".hist\"):\n",
    "        x, abundance = map(int,line.split())\n",
    "        #abundances += [x]*abundance\n",
    "        mean += x*abundance\n",
    "        nb_items += abundance\n",
    "    mean_abundance = mean/ nb_items\n",
    "    stdev_abundance = 0\n",
    "    # too slow\n",
    "    #mean_abundance = statistics.mean(abundances)\n",
    "    #stdev_abundance = statistics.stdev(abundances)\n",
    "    print(k,mean_abundance, stdev_abundance)\n",
    "    data_kminmers += [(k,mean_abundance, stdev_abundance)]"
   ]
  },
  {
   "cell_type": "code",
   "execution_count": 39,
   "id": "1437142b",
   "metadata": {},
   "outputs": [
    {
     "name": "stdout",
     "output_type": "stream",
     "text": [
      "    k      mean  stdev\n",
      "0   2  1.116950      0\n",
      "1   4  1.075588      0\n",
      "2   6  1.061836      0\n",
      "3   8  1.053341      0\n",
      "4  10  1.047163      0\n",
      "5  12  1.042327      0\n",
      "6  15  1.036681      0\n",
      "7  20  1.029971      0\n"
     ]
    },
    {
     "name": "stderr",
     "output_type": "stream",
     "text": [
      "/home/rayan/anaconda3/lib/python3.7/site-packages/seaborn/_decorators.py:43: FutureWarning: Pass the following variables as keyword args: x, y. From version 0.12, the only valid positional argument will be `data`, and passing other arguments without an explicit keyword will result in an error or misinterpretation.\n",
      "  FutureWarning\n"
     ]
    },
    {
     "data": {
      "image/png": "[encoded data removed]",
      "text/plain": [
       "<Figure size 288x216 with 1 Axes>"
      ]
     },
     "metadata": {},
     "output_type": "display_data"
    }
   ],
   "source": [
    "\n",
    "df = pd.DataFrame([x for x in data_kminmers],columns=(\"k\",\"mean\",\"stdev\"))\n",
    "\n",
    "print(df)\n",
    "sns_plot = sns.lineplot(df[\"k\"], df[\"mean\"])\n",
    "\n",
    "#sns_plot.set(xscale=\"log\")\n",
    "#sns_plot.set(yscale=\"log\")\n",
    "#sns_plot.set(xticks=[x/100 for x in range(0,10+1,2)])\n",
    "#sns_plot.set_xticklabels([str(x-2) for x in range(0,10+3,2)])\n",
    "\n",
    "#ylabels = ['{:,.1f}'.format(x)  for x in sns_plot.get_yticks()]\n",
    "#sns_plot.set_yticklabels(ylabels)\n",
    "\n",
    "#plt.xticks(sns_plot.get_xticks(), sns_plot.get_xticks() * 100)\n",
    "sns_plot.set(xlabel='k value', ylabel='Average occurences in reference')\n",
    "#sns_plot.get_legend().remove()\n",
    "plt.title('')\n",
    "\n",
    "fig = sns_plot.get_figure()\n",
    "fig.savefig(\"seeds_kminers.pdf\", bbox_inches='tight', dpi =300)\n"
   ]
  },
  {
   "cell_type": "code",
   "execution_count": null,
   "id": "fbe9da56",
   "metadata": {},
   "outputs": [],
   "source": []
  }
 ],
 "metadata": {
  "kernelspec": {
   "display_name": "Python 3",
   "language": "python",
   "name": "python3"
  },
  "language_info": {
   "codemirror_mode": {
    "name": "ipython",
    "version": 3
   },
   "file_extension": ".py",
   "mimetype": "text/x-python",
   "name": "python",
   "nbconvert_exporter": "python",
   "pygments_lexer": "ipython3",
   "version": "3.7.7"
  }
 },
 "nbformat": 4,
 "nbformat_minor": 5
}
