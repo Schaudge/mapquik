{
 "cells": [
  {
   "cell_type": "code",
   "execution_count": null,
   "id": "aa797499",
   "metadata": {},
   "outputs": [],
   "source": [
    "import pandas as pd\n",
    "import numpy as np\n",
    "import seaborn as sns\n",
    "from matplotlib import pyplot as plt\n",
    "import statistics\n",
    "\n",
    "sns.reset_defaults()\n",
    "sns.set_context(\"talk\")\n",
    "tex_fonts = {\n",
    "    # Use LaTeX to write all text\n",
    "    \"text.usetex\": True,\n",
    "    \"font.family\": \"sans-serif\",\n",
    "    \"font.sans-serif\": \"Helvetica\",\n",
    "    # Use 10pt font in plots, to match 10pt font in document\n",
    "    \"axes.labelsize\": 18,\n",
    "    \"axes.titlesize\": 18,\n",
    "    \"font.size\": 18,\n",
    "    # Make the legend/label fonts a little smaller\n",
    "    \"legend.fontsize\": 12,\n",
    "    \"xtick.labelsize\": 16,\n",
    "    \"ytick.labelsize\": 16\n",
    "}\n",
    "\n",
    "plt.rcParams.update(tex_fonts)\n",
    "\n",
    "def read_interval(path):\n",
    "    ints = {}\n",
    "    with open(path) as fmq:\n",
    "        for line in fmq:\n",
    "            spl = line.strip().split('\\t')\n",
    "            chrom, start, end = spl\n",
    "            if int(end)-int(start) == 1: continue\n",
    "            ints[(chrom, int(start), int(end))] = []\n",
    "    return ints\n",
    "    \n",
    "\n",
    "def read_overlap(int_path, ov_path):\n",
    "    ints = read_interval(int_path)\n",
    "    cov = []\n",
    "    size_cov = []\n",
    "    df = []\n",
    "    c = 0\n",
    "    with open(ov_path) as fov:\n",
    "        for line in fov:\n",
    "            spl = line.strip().split('\\t')\n",
    "            chrom_mq, start_mq, end_mq, chrom_mm, start_mm, end_mm, ov_len = spl\n",
    "            if int(end_mq)-int(start_mq) == 1: continue\n",
    "            ints[(chrom_mq, int(start_mq), int(end_mq))] += [(chrom_mm, start_mm, end_mm, int(ov_len))]\n",
    "    for k_tup, vl in ints.items():\n",
    "        chrom_mq, start_mq, end_mq = k_tup\n",
    "        int_len = end_mq - start_mq\n",
    "        tot_ov = sum([x[3] for x in vl])\n",
    "        print(\"Interval length: \", int_len, \"Total covered: \", float(tot_ov/int_len))\n",
    "        cov += [float(tot_ov/int_len)* 100.0]\n",
    "        size_cov += [(float(tot_ov/int_len)* 100.0, int_len)]\n",
    "    return cov, size_cov\n",
    "\n",
    "# load bed files\n",
    "mq_path = '/home/baris/mapquik-chm13-complement.bed'\n",
    "q60_path = '/home/baris/mapquik-minimap2-chm13-q60.overlaps'\n",
    "q30_path = '/home/baris/mapquik-minimap2-chm13-q30.overlaps'\n",
    "q20_path = '/home/baris/mapquik-minimap2-chm13-q20.overlaps'\n",
    "\n",
    "q60_cov, q60_size_cov = read_overlap(mq_path, q60_path)\n",
    "q30_cov, q30_size_cov = read_overlap(mq_path, q30_path)\n",
    "q20_cov, q20_size_cov = read_overlap(mq_path, q20_path)\n",
    "df = []\n",
    "for i in range(len(q60_cov)):\n",
    "    tup = (i, q60_size_cov[i][1], q60_size_cov[i][0], q30_size_cov[i][0], q20_size_cov[i][0])\n",
    "    df += [tup]\n",
    "    print(tup)\n",
    "    \n"
   ]
  },
  {
   "cell_type": "code",
   "execution_count": null,
   "id": "b737595a",
   "metadata": {
    "scrolled": true
   },
   "outputs": [],
   "source": [
    "fig, a = plt.subplots(figsize=(9,9))\n",
    "\n",
    "plt.show()"
   ]
  },
  {
   "cell_type": "code",
   "execution_count": null,
   "id": "4a88e4a5",
   "metadata": {
    "scrolled": true
   },
   "outputs": [],
   "source": [
    "fig, axes = plt.subplots(1, 2, figsize=(28,11))\n",
    "i_df = pd.DataFrame([x for x in df],columns=('index','size','Q60', 'Q30', 'Q20'))\n",
    "axes[0].plot(list(range(0, len(q60_cov))), sorted([float(x) for x in q60_cov]), label=r'Missed by $\\texttt{minimap2}$ at Q$60$', c='r', alpha=0.5)\n",
    "axes[0].plot(list(range(0, len(q30_cov))), sorted([float(x) for x in q30_cov]), label=r'Missed by $\\texttt{minimap2}$ at Q$30$', c='b', alpha=0.5)\n",
    "axes[0].plot(list(range(0, len(q20_cov))), sorted([float(x) for x in q20_cov]), label=r'Missed by $\\texttt{minimap2}$ at Q$20$', c='g', alpha=0.5)\n",
    "axes[0].legend()\n",
    "axes[0].set_xticks(list(range(0, len(q60_cov), 100)))\n",
    "axes[0].set_xlabel(r\"Cumulative number of missed intervals by $\\texttt{mapquik}$\")\n",
    "axes[0].set_ylabel(r\"$\\%$ of overlap with missed $\\texttt{minimap2}$ intervals\")\n",
    "i_df.plot.scatter(ax=axes[1], x='size', y='Q60', alpha=0.2, c='red', label=r'Missed by $\\texttt{minimap2}$ at Q$60$')\n",
    "i_df.plot.scatter(ax=axes[1], x='size', y='Q30', alpha=0.2, c='blue', label=r'Missed by $\\texttt{minimap2}$ at Q$30$')\n",
    "i_df.plot.scatter(ax=axes[1], x='size', y='Q20', alpha=0.2, c='green', label=r'Missed by $\\texttt{minimap2}$ at Q$20$')\n",
    "axes[1].set_xscale(\"log\")\n",
    "axes[1].set_xlabel(r\"Missed interval size by $\\texttt{mapquik}$ ($\\log_{10}$ base pairs)\")\n",
    "axes[1].set_ylabel(r\"$\\%$ of overlap with missed $\\texttt{minimap2}$ intervals\")\n",
    "axes[1].legend(loc='lower right')\n",
    "plt.show()\n",
    "fig.savefig(\"interval_analysis.png\", bbox_inches='tight', dpi =300)\n"
   ]
  },
  {
   "cell_type": "code",
   "execution_count": null,
   "id": "d9d82ee7",
   "metadata": {
    "scrolled": true
   },
   "outputs": [],
   "source": [
    "fig, ax = plt.subplots(figsize=(10,10))\n",
    "i_df = pd.DataFrame([x for x in df],columns=('index','size','Q60', 'Q30', 'Q20'))\n",
    "ax.plot(list(range(0, len(q60_cov))), sorted([float(x) for x in q60_cov]), label=r'Missed by $\\texttt{minimap2}$ at Q$60$', c='r', alpha=0.5)\n",
    "ax.plot(list(range(0, len(q30_cov))), sorted([float(x) for x in q30_cov]), label=r'Missed by $\\texttt{minimap2}$ at Q$30$', c='b', alpha=0.5)\n",
    "ax.plot(list(range(0, len(q20_cov))), sorted([float(x) for x in q20_cov]), label=r'Missed by $\\texttt{minimap2}$ at Q$20$', c='g', alpha=0.5)\n",
    "ax.legend()\n",
    "ax.set_xticks(list(range(0, len(q60_cov), 100)))\n",
    "ax.set_xlabel(r\"Cumulative number of missed intervals by $\\texttt{mapquik}$\")\n",
    "ax.set_ylabel(r\"$\\%$ of overlap with missed $\\texttt{minimap2}$ intervals\")\n",
    "plt.show()\n",
    "fig.savefig(\"interval_analysis_1.png\", bbox_inches='tight', dpi =300)\n"
   ]
  },
  {
   "cell_type": "code",
   "execution_count": null,
   "id": "73245e11",
   "metadata": {},
   "outputs": [],
   "source": [
    "fig, a = plt.subplots(figsize=(10,10))\n",
    "i_df.plot.scatter(ax=a, x='size', y='Q60', alpha=0.2, c='red', label=r'Missed by $\\texttt{minimap2}$ at Q$60$')\n",
    "i_df.plot.scatter(ax=a, x='size', y='Q30', alpha=0.2, c='blue', label=r'Missed by $\\texttt{minimap2}$ at Q$30$')\n",
    "i_df.plot.scatter(ax=a, x='size', y='Q20', alpha=0.2, c='green', label=r'Missed by $\\texttt{minimap2}$ at Q$20$')\n",
    "a.set_xscale(\"log\")\n",
    "a.set_xlabel(r\"Missed interval size by $\\texttt{mapquik}$ ($\\log_{10}$ base pairs)\")\n",
    "a.set_ylabel(r\"$\\%$ of overlap with missed $\\texttt{minimap2}$ intervals\")\n",
    "a.legend(loc='lower right')\n",
    "plt.show()\n",
    "fig.savefig(\"interval_analysis_2.png\", bbox_inches='tight', dpi =300)"
   ]
  },
  {
   "cell_type": "code",
   "execution_count": null,
   "id": "6a22e0c1",
   "metadata": {},
   "outputs": [],
   "source": []
  }
 ],
 "metadata": {
  "kernelspec": {
   "display_name": "Python 3 (ipykernel)",
   "language": "python",
   "name": "python3"
  },
  "language_info": {
   "codemirror_mode": {
    "name": "ipython",
    "version": 3
   },
   "file_extension": ".py",
   "mimetype": "text/x-python",
   "name": "python",
   "nbconvert_exporter": "python",
   "pygments_lexer": "ipython3",
   "version": "3.10.10"
  }
 },
 "nbformat": 4,
 "nbformat_minor": 5
}
